{
 "metadata": {
  "name": ""
 },
 "nbformat": 3,
 "nbformat_minor": 0,
 "worksheets": [
  {
   "cells": [
    {
     "cell_type": "markdown",
     "metadata": {},
     "source": [
      "[![](https://bytebucket.org/davis68/resources/raw/f7c98d2b95e961fae257707e22a58fa1a2c36bec/logos/baseline_cse_wdmk.png?token=be4cc41d4b2afe594f5b1570a3c5aad96a65f0d6)](http://cse.illinois.edu/)"
     ]
    },
    {
     "cell_type": "markdown",
     "metadata": {},
     "source": [
      "# SymPy\n",
      "\n",
      "## Contents\n",
      "- [Introduction](#intro)\n",
      "- [Printing](#printing)\n",
      "- [Gotcha!](#gotcha)\n",
      "- [Basic Operations](#ops)\n",
      "- [Trigonometry and Powers](#trigops)\n",
      "- [Calculus](#calc)\n",
      "    - [Derivatives](#deriv)\n",
      "    - [Integrals](#int)\n",
      "    - [Limits](#limits)\n",
      "    - [Series Expansion](#exp)\n",
      "- [References](#refs)\n",
      "- [Credits](#credits)"
     ]
    },
    {
     "cell_type": "markdown",
     "metadata": {},
     "source": [
      "<a id='intro'></a>\n",
      "# Introduction\n",
      "\n",
      "## What is symbolic computation?\n",
      "\n",
      "Symbolic computation deals with the computation of mathematical objects symbolically. This means that the mathematical objects are represented exactly, not approximately, and mathematical expressions with unevaluated variables are left in symbolic form.\n",
      "\n",
      "If that did not make any sense to you, let's give it another shot with an example.\n",
      "\n",
      "Let's look at the `sqrt` function in Python's `math` module."
     ]
    },
    {
     "cell_type": "code",
     "collapsed": false,
     "input": [
      "import math\n",
      "math.sqrt(9)"
     ],
     "language": "python",
     "metadata": {},
     "outputs": [
      {
       "metadata": {},
       "output_type": "pyout",
       "prompt_number": 2,
       "text": [
        "3.0"
       ]
      }
     ],
     "prompt_number": 2
    },
    {
     "cell_type": "markdown",
     "metadata": {},
     "source": [
      "But this was an easy one because 9 is a perfect square! Now let's look at some number which is not."
     ]
    },
    {
     "cell_type": "code",
     "collapsed": false,
     "input": [
      "math.sqrt(28)"
     ],
     "language": "python",
     "metadata": {},
     "outputs": [
      {
       "metadata": {},
       "output_type": "pyout",
       "prompt_number": 3,
       "text": [
        "5.291502622129181"
       ]
      }
     ],
     "prompt_number": 3
    },
    {
     "cell_type": "markdown",
     "metadata": {},
     "source": [
      "Here we got an approximate number, because the $\\sqrt 28 $ is an irrational number, so it cannot be represented in finite precision. If this is all that we wanted, we'd be happy with this approximate result.\n",
      "\n",
      "But if we think a little further, $\\sqrt 28 = 2\\sqrt 7$ and there is no way for us to deduce this from the approximated result. This is where symbolic computation comes in. With a symbolic computation system like SymPy, square roots of numbers that are not perfect squares are left unevaluated by default."
     ]
    },
    {
     "cell_type": "code",
     "collapsed": false,
     "input": [
      "import sympy\n",
      "sympy.sqrt(28)"
     ],
     "language": "python",
     "metadata": {},
     "outputs": [
      {
       "metadata": {},
       "output_type": "pyout",
       "prompt_number": 4,
       "text": [
        "2*sqrt(7)"
       ]
      }
     ],
     "prompt_number": 4
    },
    {
     "cell_type": "code",
     "collapsed": false,
     "input": [
      "sympy.sqrt(9)"
     ],
     "language": "python",
     "metadata": {},
     "outputs": [
      {
       "metadata": {},
       "output_type": "pyout",
       "prompt_number": 5,
       "text": [
        "3"
       ]
      }
     ],
     "prompt_number": 5
    },
    {
     "cell_type": "markdown",
     "metadata": {},
     "source": [
      "** A more interesting example **\n",
      "\n",
      "The above example starts to show how we can manipulate irrational numbers exactly using SymPy. But it is much more powerful than that. Symbolic computation systems (which are also often called computer algebra systems, or just CASs) such as SymPy, Mathematica etc. are capable of computing symbolic expressions with variables.\n",
      "\n",
      "Let us define a symbolic expression, representing the mathematical expression $2x+5y$."
     ]
    },
    {
     "cell_type": "code",
     "collapsed": false,
     "input": [
      "from sympy import symbols\n",
      "x,y= symbols('x y')\n",
      "expr= 2*x + 5*y\n",
      "expr"
     ],
     "language": "python",
     "metadata": {},
     "outputs": [
      {
       "metadata": {},
       "output_type": "pyout",
       "prompt_number": 6,
       "text": [
        "2*x + 5*y"
       ]
      }
     ],
     "prompt_number": 6
    },
    {
     "cell_type": "markdown",
     "metadata": {},
     "source": [
      "We write 2\\*x + 5\\*y just as we would if x and y were ordinary Python variables. But in this case, instead of evaluating to something, the expression remains as just 2\\*x + 5\\*y. Now let us play around with it:"
     ]
    },
    {
     "cell_type": "code",
     "collapsed": false,
     "input": [
      "expr +1"
     ],
     "language": "python",
     "metadata": {},
     "outputs": [
      {
       "metadata": {},
       "output_type": "pyout",
       "prompt_number": 7,
       "text": [
        "2*x + 5*y + 1"
       ]
      }
     ],
     "prompt_number": 7
    },
    {
     "cell_type": "code",
     "collapsed": false,
     "input": [
      "expr - x"
     ],
     "language": "python",
     "metadata": {},
     "outputs": [
      {
       "metadata": {},
       "output_type": "pyout",
       "prompt_number": 8,
       "text": [
        "x + 5*y"
       ]
      }
     ],
     "prompt_number": 8
    },
    {
     "cell_type": "markdown",
     "metadata": {},
     "source": [
      "Notice that  when we typed expr - x, we did not get 2\\*x + 5\\*y - x, but rather just x + 5\\*y. The x was automatically subtracted from the 2x . This is similar to how sqrt(28) automatically turned into 2\\*sqrt(7) above. This isn\u2019t always the case in SymPy, however:"
     ]
    },
    {
     "cell_type": "code",
     "collapsed": false,
     "input": [
      "x*expr"
     ],
     "language": "python",
     "metadata": {},
     "outputs": [
      {
       "metadata": {},
       "output_type": "pyout",
       "prompt_number": 9,
       "text": [
        "x*(2*x + 5*y)"
       ]
      }
     ],
     "prompt_number": 9
    },
    {
     "cell_type": "markdown",
     "metadata": {},
     "source": [
      "Aside from obvious simplifications like 2x\u2212x=x, most simplifications are not performed automatically. This is because we might prefer the factored form $x(2x+5y)$, or we might prefer the expanded form $2x^2+5xy$. Both forms are useful in different circumstances. In SymPy, there are functions to go from one form to the other"
     ]
    },
    {
     "cell_type": "code",
     "collapsed": false,
     "input": [
      "from sympy import expand, factor\n",
      "expanded_expr=expand(x*expr)\n",
      "expanded_expr"
     ],
     "language": "python",
     "metadata": {},
     "outputs": [
      {
       "metadata": {},
       "output_type": "pyout",
       "prompt_number": 10,
       "text": [
        "2*x**2 + 5*x*y"
       ]
      }
     ],
     "prompt_number": 10
    },
    {
     "cell_type": "code",
     "collapsed": false,
     "input": [
      "factored_expr=factor(x*expr)\n",
      "factored_expr"
     ],
     "language": "python",
     "metadata": {},
     "outputs": [
      {
       "metadata": {},
       "output_type": "pyout",
       "prompt_number": 11,
       "text": [
        "x*(2*x + 5*y)"
       ]
      }
     ],
     "prompt_number": 11
    },
    {
     "cell_type": "markdown",
     "metadata": {},
     "source": [
      "**Snippets of Symbolic Computation**\n",
      "\n",
      "The real power of a symbolic computation system such as SymPy is the ability to do all sorts of computations symbolically. SymPy can compute derivatives, integrals, and limits, solve equations, work with matrices, and much, much more, and do it all symbolically. It includes modules for plotting, printing (like 2D pretty printed output of math formulas, or LATEX), code generation, physics, statistics, combinatorics, number theory, geometry, logic, and more. Here is a small sampling of the sort of symbolic power SymPy is capable of, to whet your appetite."
     ]
    },
    {
     "cell_type": "code",
     "collapsed": false,
     "input": [
      "from sympy import *\n",
      "x,t,z,nu= symbols('x t z nu')"
     ],
     "language": "python",
     "metadata": {},
     "outputs": [],
     "prompt_number": 12
    },
    {
     "cell_type": "markdown",
     "metadata": {},
     "source": [
      "This will make all further example pretty print with unicode characters."
     ]
    },
    {
     "cell_type": "code",
     "collapsed": false,
     "input": [
      "init_printing(use_unicode=True)"
     ],
     "language": "python",
     "metadata": {},
     "outputs": [],
     "prompt_number": 13
    },
    {
     "cell_type": "markdown",
     "metadata": {},
     "source": [
      "Take the derivative of $sin(x)e^x$"
     ]
    },
    {
     "cell_type": "code",
     "collapsed": false,
     "input": [
      "diff(sin(x)*exp(x), x)"
     ],
     "language": "python",
     "metadata": {},
     "outputs": [
      {
       "latex": [
        "$$e^{x} \\sin{\\left (x \\right )} + e^{x} \\cos{\\left (x \\right )}$$"
       ],
       "metadata": {},
       "output_type": "pyout",
       "png": "[encoded data removed]",
       "prompt_number": 14,
       "text": [
        " x           x       \n",
        "\u212f \u22c5sin(x) + \u212f \u22c5cos(x)"
       ]
      }
     ],
     "prompt_number": 14
    },
    {
     "cell_type": "markdown",
     "metadata": {},
     "source": [
      "Computing the $\\int e^xsin(x)+e^xcos(x) dx$."
     ]
    },
    {
     "cell_type": "code",
     "collapsed": false,
     "input": [
      "integrate(exp(x)*sin(x) + exp(x)*cos(x), x)"
     ],
     "language": "python",
     "metadata": {},
     "outputs": [
      {
       "latex": [
        "$$e^{x} \\sin{\\left (x \\right )}$$"
       ],
       "metadata": {},
       "output_type": "pyout",
       "png": "[encoded data removed]",
       "prompt_number": 15,
       "text": [
        " x       \n",
        "\u212f \u22c5sin(x)"
       ]
      }
     ],
     "prompt_number": 15
    },
    {
     "cell_type": "markdown",
     "metadata": {},
     "source": [
      "Computing the $\\int_{-\\infty}^{\\infty} sin(x^2) dx$."
     ]
    },
    {
     "cell_type": "code",
     "collapsed": false,
     "input": [
      "integrate(sin(x**2), (x, -oo, oo))"
     ],
     "language": "python",
     "metadata": {},
     "outputs": [
      {
       "latex": [
        "$$\\frac{\\sqrt{2} \\sqrt{\\pi}}{2}$$"
       ],
       "metadata": {},
       "output_type": "pyout",
       "png": "[encoded data removed]",
       "prompt_number": 16,
       "text": [
        "  ___   ___\n",
        "\u2572\u2571 2 \u22c5\u2572\u2571 \u03c0 \n",
        "\u2500\u2500\u2500\u2500\u2500\u2500\u2500\u2500\u2500\u2500\u2500\n",
        "     2     "
       ]
      }
     ],
     "prompt_number": 16
    },
    {
     "cell_type": "markdown",
     "metadata": {},
     "source": [
      "Solve $x^2\u22122=0$."
     ]
    },
    {
     "cell_type": "code",
     "collapsed": false,
     "input": [
      "solve(x**2 - 2, x)"
     ],
     "language": "python",
     "metadata": {},
     "outputs": [
      {
       "latex": [
        "$$\\begin{bmatrix}- \\sqrt{2}, & \\sqrt{2}\\end{bmatrix}$$"
       ],
       "metadata": {},
       "output_type": "pyout",
       "png": "[encoded data removed]",
       "prompt_number": 17,
       "text": [
        "\u23a1   ___    ___\u23a4\n",
        "\u23a3-\u2572\u2571 2 , \u2572\u2571 2 \u23a6"
       ]
      }
     ],
     "prompt_number": 17
    },
    {
     "cell_type": "markdown",
     "metadata": {},
     "source": [
      "Solve the differential equation $y^{\u2033}\u2212y=e^t$"
     ]
    },
    {
     "cell_type": "code",
     "collapsed": false,
     "input": [
      "y = Function('y')\n",
      "dsolve(Eq(y(t).diff(t, t) - y(t), exp(t)), y(t))\n"
     ],
     "language": "python",
     "metadata": {},
     "outputs": [
      {
       "latex": [
        "$$y{\\left (t \\right )} = C_{2} e^{- t} + \\left(C_{1} + \\frac{t}{2}\\right) e^{t}$$"
       ],
       "metadata": {},
       "output_type": "pyout",
       "png": "[encoded data removed]",
       "prompt_number": 18,
       "text": [
        "           -t   \u239b     t\u239e  t\n",
        "y(t) = C\u2082\u22c5\u212f   + \u239cC\u2081 + \u2500\u239f\u22c5\u212f \n",
        "                \u239d     2\u23a0   "
       ]
      }
     ],
     "prompt_number": 18
    },
    {
     "cell_type": "markdown",
     "metadata": {},
     "source": [
      "Find the eigenvalues of $ \\begin {bmatrix} 1&2 \\\\ 2&2 \\\\ \\end{bmatrix} $"
     ]
    },
    {
     "cell_type": "code",
     "collapsed": false,
     "input": [
      " Matrix([[1, 2], [2, 2]]).eigenvals()"
     ],
     "language": "python",
     "metadata": {},
     "outputs": [
      {
       "latex": [
        "$$\\begin{Bmatrix}\\frac{3}{2} + \\frac{\\sqrt{17}}{2} : 1, & - \\frac{\\sqrt{17}}{2} + \\frac{3}{2} : 1\\end{Bmatrix}$$"
       ],
       "metadata": {},
       "output_type": "pyout",
       "png": "[encoded data removed]",
       "prompt_number": 19,
       "text": [
        "\u23a7      ____         ____       \u23ab\n",
        "\u23aa3   \u2572\u2571 17        \u2572\u2571 17    3   \u23aa\n",
        "\u23a8\u2500 + \u2500\u2500\u2500\u2500\u2500\u2500: 1, - \u2500\u2500\u2500\u2500\u2500\u2500 + \u2500: 1\u23ac\n",
        "\u23aa2     2            2      2   \u23aa\n",
        "\u23a9                              \u23ad"
       ]
      }
     ],
     "prompt_number": 19
    },
    {
     "cell_type": "markdown",
     "metadata": {},
     "source": [
      "**But why SymPy?**\n",
      "\n",
      "There are many other computer algebra systems out there, Mathematica, Sage to name a few. What distinguishes SymPy from the its counterparts?\n",
      "\n",
      "- It is **free**. This contrasts with popular commercial systems like Maple or Mathematica that cost hundreds of dollars in licenses.\n",
      "- SymPy uses Python. Most computer algebra systems invent their own language. Not SymPy. SymPy is written entirely in Python, and is executed entirely in Python. This means that if you already know Python, it is much easier to get started with SymPy, because you already know the syntax (and if you don\u2019t know Python, it is really easy to learn). \n",
      "- SymPy is that it is lightweight. In addition to being relatively small, it has no dependencies other than Python, so it can be used almost anywhere easily.\n",
      "- A final important feature of SymPy is that it can be used as a library. Many computer algebra systems focus on being usable in interactive environments, but if you wish to automate or extend them, it is difficult to do. With SymPy, you can just as easily use it in an interactive Python environment or import it in your own Python application. "
     ]
    },
    {
     "cell_type": "markdown",
     "metadata": {},
     "source": [
      "<a id='printing'></a>\n",
      "#Printing\n",
      "SymPy can pretty print its output using Unicode characters. There are many printing options available in SymPy. There are several printers available in SymPy. The most common ones are\n",
      "\n",
      "- str\n",
      "- repr\n",
      "- ASCII pretty printer\n",
      "- Unicode pretty printer\n",
      "- LaTeX\n",
      "- MathML\n",
      "- Dot\n",
      "\n",
      "If you want the best pretty printing, you can use the `init_printing` function. This will automatically enable the best printer available in your environment."
     ]
    },
    {
     "cell_type": "code",
     "collapsed": false,
     "input": [
      "from sympy import init_printing, init_session\n",
      "init_printing()"
     ],
     "language": "python",
     "metadata": {},
     "outputs": [],
     "prompt_number": 20
    },
    {
     "cell_type": "markdown",
     "metadata": {},
     "source": [
      "To render $LaTeX$,"
     ]
    },
    {
     "cell_type": "code",
     "collapsed": false,
     "input": [
      "\n",
      "init_session(quiet=True)\n",
      "Integral(sqrt(1/x),x)"
     ],
     "language": "python",
     "metadata": {},
     "outputs": [
      {
       "output_type": "stream",
       "stream": "stdout",
       "text": [
        "IPython console for SymPy 0.7.3 (Python 2.7.6-64-bit) (ground types: python)\n"
       ]
      },
      {
       "latex": [
        "$$\\int \\sqrt{\\frac{1}{x}}\\, dx$$"
       ],
       "metadata": {},
       "output_type": "pyout",
       "png": "[encoded data removed]",
       "prompt_number": 21,
       "text": [
        "\u2320           \n",
        "\u23ae     ___   \n",
        "\u23ae    \u2571 1    \n",
        "\u23ae   \u2571  \u2500  dx\n",
        "\u23ae \u2572\u2571   x    \n",
        "\u2321           "
       ]
      }
     ],
     "prompt_number": 21
    },
    {
     "cell_type": "markdown",
     "metadata": {},
     "source": [
      "** str **\n",
      "\n",
      "To get a string form of an expression, `str(expr)` is used. This is also the form that is produced by `print expr`. String forms are designed to be easy to read, but in a form that is correct Python syntax so that it can be copied and pasted. The `str` form of an expression will usually look exactly the same as the expression as you would enter it."
     ]
    },
    {
     "cell_type": "code",
     "collapsed": false,
     "input": [
      "x, y, z = symbols('x y z')"
     ],
     "language": "python",
     "metadata": {},
     "outputs": [],
     "prompt_number": 22
    },
    {
     "cell_type": "code",
     "collapsed": false,
     "input": [
      "str(Integral(sqrt(1/x), x))"
     ],
     "language": "python",
     "metadata": {},
     "outputs": [
      {
       "metadata": {},
       "output_type": "pyout",
       "prompt_number": 23,
       "text": [
        "'Integral(sqrt(1/x), x)'"
       ]
      }
     ],
     "prompt_number": 23
    },
    {
     "cell_type": "code",
     "collapsed": false,
     "input": [
      "print(Integral(sqrt(1/x), x))"
     ],
     "language": "python",
     "metadata": {},
     "outputs": [
      {
       "output_type": "stream",
       "stream": "stdout",
       "text": [
        "Integral(sqrt(1/x), x)\n"
       ]
      }
     ],
     "prompt_number": 24
    },
    {
     "cell_type": "markdown",
     "metadata": {},
     "source": [
      "**repr**\n",
      "\n",
      "The repr form of an expression is designed to show the exact form of an expression. "
     ]
    },
    {
     "cell_type": "code",
     "collapsed": false,
     "input": [
      "srepr(Integral(sqrt(1/x), x))"
     ],
     "language": "python",
     "metadata": {},
     "outputs": [
      {
       "metadata": {},
       "output_type": "pyout",
       "prompt_number": 25,
       "text": [
        "\"Integral(Pow(Pow(Symbol('x'), Integer(-1)), Rational(1, 2)), Tuple(Symbol('x')))\""
       ]
      }
     ],
     "prompt_number": 25
    },
    {
     "cell_type": "markdown",
     "metadata": {},
     "source": [
      "** ASCII Pretty Printer**\n",
      "\n",
      "The ASCII pretty printer is accessed from pprint. If the terminal does not support Unicode, the ASCII printer is used by default. Otherwise, you must pass use_unicode=False."
     ]
    },
    {
     "cell_type": "code",
     "collapsed": false,
     "input": [
      "pprint(Integral(sqrt(1/x), x), use_unicode=False)"
     ],
     "language": "python",
     "metadata": {},
     "outputs": [
      {
       "output_type": "stream",
       "stream": "stdout",
       "text": [
        "  /          \n",
        " |           \n",
        " |     ___   \n",
        " |    / 1    \n",
        " |   /  -  dx\n",
        " | \\/   x    \n",
        " |           \n",
        "/            \n"
       ]
      }
     ],
     "prompt_number": 26
    },
    {
     "cell_type": "code",
     "collapsed": false,
     "input": [
      "print(latex(Integral(sqrt(1/x), x)))"
     ],
     "language": "python",
     "metadata": {},
     "outputs": [
      {
       "output_type": "stream",
       "stream": "stdout",
       "text": [
        "\\int \\sqrt{\\frac{1}{x}}\\, dx\n"
       ]
      }
     ],
     "prompt_number": 27
    },
    {
     "cell_type": "code",
     "collapsed": false,
     "input": [
      "from sympy.printing.mathml import print_mathml\n",
      "print_mathml(Integral(sqrt(1/x), x))\n"
     ],
     "language": "python",
     "metadata": {},
     "outputs": [
      {
       "output_type": "stream",
       "stream": "stdout",
       "text": [
        "<apply>\n",
        "\t<int/>\n",
        "\t<bvar>\n",
        "\t\t<ci>x</ci>\n",
        "\t</bvar>\n",
        "\t<apply>\n",
        "\t\t<root/>\n",
        "\t\t<apply>\n",
        "\t\t\t<power/>\n",
        "\t\t\t<ci>x</ci>\n",
        "\t\t\t<cn>-1</cn>\n",
        "\t\t</apply>\n",
        "\t</apply>\n",
        "</apply>\n",
        "\n"
       ]
      }
     ],
     "prompt_number": 28
    },
    {
     "cell_type": "markdown",
     "metadata": {},
     "source": [
      "<a id='gotcha'></a>\n",
      "#Gotcha!\n",
      "\n",
      "##Try the following -\n",
      "\n"
     ]
    },
    {
     "cell_type": "code",
     "collapsed": false,
     "input": [
      "from sympy import *"
     ],
     "language": "python",
     "metadata": {},
     "outputs": [],
     "prompt_number": 29
    },
    {
     "cell_type": "code",
     "collapsed": false,
     "input": [
      "#Symbols can be more than one letter!\n",
      "crazy = symbols('unrelated')\n",
      "crazy + 1"
     ],
     "language": "python",
     "metadata": {},
     "outputs": [
      {
       "latex": [
        "$$unrelated + 1$$"
       ],
       "metadata": {},
       "output_type": "pyout",
       "png": "[encoded data removed]",
       "prompt_number": 30,
       "text": [
        "unrelated + 1"
       ]
      }
     ],
     "prompt_number": 30
    },
    {
     "cell_type": "code",
     "collapsed": false,
     "input": [
      "x = symbols('x')\n",
      "expr = x + 1\n",
      "x = 2\n",
      "print(expr)\n",
      "\n",
      "#What happens here?"
     ],
     "language": "python",
     "metadata": {},
     "outputs": [
      {
       "output_type": "stream",
       "stream": "stdout",
       "text": [
        "x + 1\n"
       ]
      }
     ],
     "prompt_number": 31
    },
    {
     "cell_type": "code",
     "collapsed": false,
     "input": [
      "x = symbols('x')\n",
      "expr = x + 1\n",
      "expr.subs(x, 2)\n"
     ],
     "language": "python",
     "metadata": {},
     "outputs": [
      {
       "latex": [
        "$$3$$"
       ],
       "metadata": {},
       "output_type": "pyout",
       "png": "[encoded data removed]",
       "prompt_number": 32,
       "text": [
        "3"
       ]
      }
     ],
     "prompt_number": 32
    },
    {
     "cell_type": "markdown",
     "metadata": {},
     "source": [
      "** Equals signs **\n",
      "\n"
     ]
    },
    {
     "cell_type": "code",
     "collapsed": false,
     "input": [
      "a=symbols('a')\n",
      "a + 1 == 4"
     ],
     "language": "python",
     "metadata": {},
     "outputs": [
      {
       "metadata": {},
       "output_type": "pyout",
       "prompt_number": 33,
       "text": [
        "False"
       ]
      }
     ],
     "prompt_number": 33
    },
    {
     "cell_type": "markdown",
     "metadata": {},
     "source": [
      "In SymPy, == represents exact structural equality testing. This means that a == b means checking if a=b. We always get a `bool` as the result of ==. There is a separate object, called `Eq`, which can be used to create symbolic equalities."
     ]
    },
    {
     "cell_type": "code",
     "collapsed": false,
     "input": [
      "Eq(x + 1, 4)"
     ],
     "language": "python",
     "metadata": {},
     "outputs": [
      {
       "latex": [
        "$$x + 1 = 4$$"
       ],
       "metadata": {},
       "output_type": "pyout",
       "png": "[encoded data removed]",
       "prompt_number": 34,
       "text": [
        "x + 1 = 4"
       ]
      }
     ],
     "prompt_number": 34
    },
    {
     "cell_type": "markdown",
     "metadata": {},
     "source": [
      "** Question **\n",
      "\n",
      "Try the following:\n"
     ]
    },
    {
     "cell_type": "code",
     "collapsed": false,
     "input": [
      "(x + 1)**2 == x**2 + 2*x + 1"
     ],
     "language": "python",
     "metadata": {},
     "outputs": [
      {
       "metadata": {},
       "output_type": "pyout",
       "prompt_number": 35,
       "text": [
        "False"
       ]
      }
     ],
     "prompt_number": 35
    },
    {
     "cell_type": "code",
     "collapsed": false,
     "input": [
      "a = (x + 1)**2\n",
      "b = x**2 + 2*x + 1\n",
      "simplify(a - b)"
     ],
     "language": "python",
     "metadata": {},
     "outputs": [
      {
       "latex": [
        "$$0$$"
       ],
       "metadata": {},
       "output_type": "pyout",
       "png": "[encoded data removed]",
       "prompt_number": 36,
       "text": [
        "0"
       ]
      }
     ],
     "prompt_number": 36
    },
    {
     "cell_type": "code",
     "collapsed": false,
     "input": [
      "a = cos(x)**2 - sin(x)**2\n",
      "b = cos(2*x)\n",
      "a.equals(b)"
     ],
     "language": "python",
     "metadata": {},
     "outputs": [
      {
       "metadata": {},
       "output_type": "pyout",
       "prompt_number": 37,
       "text": [
        "True"
       ]
      }
     ],
     "prompt_number": 37
    },
    {
     "cell_type": "markdown",
     "metadata": {},
     "source": [
      "** The ^ and the / **\n",
      "\n",
      "We have been using \\*\\* for exponentiation instead of the standard ^. That\u2019s because SymPy follows Python\u2019s conventions. In Python, ^ represents logical exclusive or. SymPy follows this convention:"
     ]
    },
    {
     "cell_type": "code",
     "collapsed": false,
     "input": [
      "True ^ False"
     ],
     "language": "python",
     "metadata": {},
     "outputs": [
      {
       "metadata": {},
       "output_type": "pyout",
       "prompt_number": 38,
       "text": [
        "True"
       ]
      }
     ],
     "prompt_number": 38
    },
    {
     "cell_type": "code",
     "collapsed": false,
     "input": [
      "True ^ True"
     ],
     "language": "python",
     "metadata": {},
     "outputs": [
      {
       "metadata": {},
       "output_type": "pyout",
       "prompt_number": 39,
       "text": [
        "False"
       ]
      }
     ],
     "prompt_number": 39
    },
    {
     "cell_type": "markdown",
     "metadata": {},
     "source": [
      "When you type something like `x + 1`, the SymPy Symbol `x` is added to the Python `int` 1. Python\u2019s operator rules then allow SymPy to tell Python that SymPy objects know how to be added to Python ints, and so 1 is automatically converted to the SymPy Integer object.\n",
      "\n",
      "This sort of operator magic happens automatically behind the scenes, and you rarely need to even know that it is happening. However, there is one exception. Whenever you combine a SymPy object and a SymPy object, or a SymPy object and a Python object, you get a SymPy object, but whenever you combine two Python objects, SymPy never comes into play, and so you get a Python object."
     ]
    },
    {
     "cell_type": "code",
     "collapsed": false,
     "input": [
      "type(Integer(1) + 1)"
     ],
     "language": "python",
     "metadata": {},
     "outputs": [
      {
       "metadata": {},
       "output_type": "pyout",
       "prompt_number": 40,
       "text": [
        "sympy.core.numbers.Integer"
       ]
      }
     ],
     "prompt_number": 40
    },
    {
     "cell_type": "markdown",
     "metadata": {},
     "source": [
      "But in Python / represents either integer division or floating point division, depending on whether you are in Python 2 or Python 3, and depending on whether or not you have run from `__future__ import division`:"
     ]
    },
    {
     "cell_type": "code",
     "collapsed": false,
     "input": [
      "1/2\n"
     ],
     "language": "python",
     "metadata": {},
     "outputs": [
      {
       "latex": [
        "$$0.5$$"
       ],
       "metadata": {},
       "output_type": "pyout",
       "png": "[encoded data removed]",
       "prompt_number": 41,
       "text": [
        "0.5"
       ]
      }
     ],
     "prompt_number": 41
    },
    {
     "cell_type": "markdown",
     "metadata": {},
     "source": [
      "To avoid this, we can construct the rational object explicitly"
     ]
    },
    {
     "cell_type": "code",
     "collapsed": false,
     "input": [
      "Rational(1, 2)"
     ],
     "language": "python",
     "metadata": {},
     "outputs": [
      {
       "latex": [
        "$$\\frac{1}{2}$$"
       ],
       "metadata": {},
       "output_type": "pyout",
       "png": "[encoded data removed]",
       "prompt_number": 42,
       "text": [
        "1/2"
       ]
      }
     ],
     "prompt_number": 42
    },
    {
     "cell_type": "code",
     "collapsed": false,
     "input": [
      "x + Rational(1, 2)"
     ],
     "language": "python",
     "metadata": {},
     "outputs": [
      {
       "latex": [
        "$$x + \\frac{1}{2}$$"
       ],
       "metadata": {},
       "output_type": "pyout",
       "png": "[encoded data removed]",
       "prompt_number": 43,
       "text": [
        "x + 1/2"
       ]
      }
     ],
     "prompt_number": 43
    },
    {
     "cell_type": "markdown",
     "metadata": {},
     "source": [
      "<a id='ops'></a>\n",
      "\n",
      "#Basic Operations\n",
      "\n",
      "This section aims to describe some of the most basic SymPy operations. \n",
      "\n",
      "**Substitution**\n"
     ]
    },
    {
     "cell_type": "code",
     "collapsed": false,
     "input": [
      "expr = cos(x) + 1\n",
      "expr.subs(x, y)"
     ],
     "language": "python",
     "metadata": {},
     "outputs": [
      {
       "latex": [
        "$$\\cos{\\left (y \\right )} + 1$$"
       ],
       "metadata": {},
       "output_type": "pyout",
       "png": "[encoded data removed]",
       "prompt_number": 44,
       "text": [
        "cos(y) + 1"
       ]
      }
     ],
     "prompt_number": 44
    },
    {
     "cell_type": "markdown",
     "metadata": {},
     "source": [
      "Substitution is usually done for one of two reasons:\n",
      "\n",
      "- Evaluating an expression at a point. For example, if the expression is cos(x) + 1 and we want to evaluate it at the point x = 0, so that we get cos(0) + 1, which is 2.\n",
      "\n",
      "- Replacing a subexpression with another subexpression. There are two reasons we might want to do this. The first is if we are trying to build an expression that has some symmetry, such as $x^{x^{x^{x}}}$. To build this, we might start with `x**y`, and replace y with `x**y`. We would then get `x**(x**y)`. If we replaced y in this new expression with `x**x`, we would get `x**(x**(x**x))`, the desired expression."
     ]
    },
    {
     "cell_type": "code",
     "collapsed": false,
     "input": [
      "expr = x**y\n",
      "expr"
     ],
     "language": "python",
     "metadata": {},
     "outputs": [
      {
       "latex": [
        "$$x^{y}$$"
       ],
       "metadata": {},
       "output_type": "pyout",
       "png": "[encoded data removed]",
       "prompt_number": 47,
       "text": [
        " y\n",
        "x "
       ]
      }
     ],
     "prompt_number": 47
    },
    {
     "cell_type": "code",
     "collapsed": false,
     "input": [
      "expr = expr.subs(y, x**y)\n",
      "expr"
     ],
     "language": "python",
     "metadata": {},
     "outputs": [
      {
       "latex": [
        "$$x^{x^{y}}$$"
       ],
       "metadata": {},
       "output_type": "pyout",
       "png": "[encoded data removed]",
       "prompt_number": 48,
       "text": [
        " \u239b y\u239e\n",
        " \u239dx \u23a0\n",
        "x    "
       ]
      }
     ],
     "prompt_number": 48
    },
    {
     "cell_type": "code",
     "collapsed": false,
     "input": [
      "expr = expr.subs(y, x**x)\n",
      "expr"
     ],
     "language": "python",
     "metadata": {},
     "outputs": [
      {
       "latex": [
        "$$x^{x^{x^{x}}}$$"
       ],
       "metadata": {},
       "output_type": "pyout",
       "png": "[encoded data removed]",
       "prompt_number": 49,
       "text": [
        " \u239b \u239b x\u239e\u239e\n",
        " \u239c \u239dx \u23a0\u239f\n",
        " \u239dx    \u23a0\n",
        "x       "
       ]
      }
     ],
     "prompt_number": 49
    },
    {
     "cell_type": "markdown",
     "metadata": {},
     "source": [
      "There are two important things to note about `subs`. First, it returns a new expression. SymPy objects are immutable. That means that `subs` does not modify it in-place. For example,"
     ]
    },
    {
     "cell_type": "code",
     "collapsed": false,
     "input": [
      "expr = cos(x)\n",
      "expr.subs(x, 0)"
     ],
     "language": "python",
     "metadata": {},
     "outputs": [
      {
       "latex": [
        "$$1$$"
       ],
       "metadata": {},
       "output_type": "pyout",
       "png": "[encoded data removed]",
       "prompt_number": 51,
       "text": [
        "1"
       ]
      }
     ],
     "prompt_number": 51
    },
    {
     "cell_type": "code",
     "collapsed": false,
     "input": [
      "expr "
     ],
     "language": "python",
     "metadata": {},
     "outputs": [
      {
       "latex": [
        "$$\\cos{\\left (x \\right )}$$"
       ],
       "metadata": {},
       "output_type": "pyout",
       "png": "[encoded data removed]",
       "prompt_number": 52,
       "text": [
        "cos(x)"
       ]
      }
     ],
     "prompt_number": 52
    },
    {
     "cell_type": "markdown",
     "metadata": {},
     "source": [
      "The value of `expr` remains unchanged.\n",
      "\n",
      "To perform multiple substitutions at once, pass a list of `(old, new)` pairs to `subs`."
     ]
    },
    {
     "cell_type": "code",
     "collapsed": false,
     "input": [
      "expr = x**3 + 4*x*y - z\n",
      "expr.subs([(x, 2), (y, 4), (z, 0)])"
     ],
     "language": "python",
     "metadata": {},
     "outputs": [
      {
       "latex": [
        "$$40$$"
       ],
       "metadata": {},
       "output_type": "pyout",
       "png": "[encoded data removed]",
       "prompt_number": 54,
       "text": [
        "40"
       ]
      }
     ],
     "prompt_number": 54
    },
    {
     "cell_type": "markdown",
     "metadata": {},
     "source": [
      "It is often useful to combine this with a list comprehension to do a large set of similar replacements all at once. For example, say we had $x^4\u22124x^3+4x^2\u22122x+3$ and we wanted to replace all instances of $x$ that have an even power with $y$, to get $y^4\u22124x^3+4y^2\u22122x+3$."
     ]
    },
    {
     "cell_type": "code",
     "collapsed": false,
     "input": [
      "expr = x**4 - 4*x**3 + 4*x**2 - 2*x + 3\n",
      "replacements = [(x**i, y**i) for i in range(5) if i % 2 == 0]\n",
      "expr.subs(replacements)"
     ],
     "language": "python",
     "metadata": {},
     "outputs": [
      {
       "latex": [
        "$$- 4 x^{3} - 2 x + y^{4} + 4 y^{2} + 3$$"
       ],
       "metadata": {},
       "output_type": "pyout",
       "png": "[encoded data removed]",
       "prompt_number": 55,
       "text": [
        "     3          4      2    \n",
        "- 4\u22c5x  - 2\u22c5x + y  + 4\u22c5y  + 3"
       ]
      }
     ],
     "prompt_number": 55
    },
    {
     "cell_type": "markdown",
     "metadata": {},
     "source": [
      "** Converting strings to SymPy expression **\n",
      "\n",
      "The `sympify` function can be used to convert strings into SymPy expressions."
     ]
    },
    {
     "cell_type": "code",
     "collapsed": false,
     "input": [
      "str_expr = \"x**2 + 3*x - 1/2\"\n",
      "expr = sympify(str_expr)\n",
      "expr"
     ],
     "language": "python",
     "metadata": {},
     "outputs": [
      {
       "latex": [
        "$$x^{2} + 3 x - \\frac{1}{2}$$"
       ],
       "metadata": {},
       "output_type": "pyout",
       "png": "[encoded data removed]",
       "prompt_number": 57,
       "text": [
        " 2         1\n",
        "x  + 3\u22c5x - \u2500\n",
        "           2"
       ]
      }
     ],
     "prompt_number": 57
    },
    {
     "cell_type": "code",
     "collapsed": false,
     "input": [
      "expr.subs(x,2)"
     ],
     "language": "python",
     "metadata": {},
     "outputs": [
      {
       "latex": [
        "$$\\frac{19}{2}$$"
       ],
       "metadata": {},
       "output_type": "pyout",
       "png": "[encoded data removed]",
       "prompt_number": 59,
       "text": [
        "19/2"
       ]
      }
     ],
     "prompt_number": 59
    },
    {
     "cell_type": "markdown",
     "metadata": {},
     "source": [
      "**evalf**\n",
      "\n",
      "To evaluate an expression in floating point,"
     ]
    },
    {
     "cell_type": "code",
     "collapsed": false,
     "input": [
      "exp=sqrt(10)\n",
      "exp.evalf()"
     ],
     "language": "python",
     "metadata": {},
     "outputs": [
      {
       "latex": [
        "$$3.16227766016838$$"
       ],
       "metadata": {},
       "output_type": "pyout",
       "png": "[encoded data removed]",
       "prompt_number": 60,
       "text": [
        "3.16227766016838"
       ]
      }
     ],
     "prompt_number": 60
    },
    {
     "cell_type": "markdown",
     "metadata": {},
     "source": [
      "Sometimes there are roundoff errors smaller than the desired precision that remain after an expression is evaluated. Such numbers can be removed at the user\u2019s discretion by setting the `chop` flag to True."
     ]
    },
    {
     "cell_type": "code",
     "collapsed": false,
     "input": [
      "one = cos(1)**2 + sin(1)**2\n",
      "(one - 1).evalf()"
     ],
     "language": "python",
     "metadata": {},
     "outputs": [
      {
       "latex": [
        "$$-4.0 \\cdot 10^{-124}$$"
       ],
       "metadata": {},
       "output_type": "pyout",
       "png": "[encoded data removed]",
       "prompt_number": 61,
       "text": [
        "-0.e-124"
       ]
      }
     ],
     "prompt_number": 61
    },
    {
     "cell_type": "code",
     "collapsed": false,
     "input": [
      "(one - 1).evalf(chop=True)"
     ],
     "language": "python",
     "metadata": {},
     "outputs": [
      {
       "latex": [
        "$$0$$"
       ],
       "metadata": {},
       "output_type": "pyout",
       "png": "[encoded data removed]",
       "prompt_number": 62,
       "text": [
        "0"
       ]
      }
     ],
     "prompt_number": 62
    },
    {
     "cell_type": "markdown",
     "metadata": {},
     "source": [
      "**lambdify**\n",
      "\n",
      "If you wanted to evaluate an expression at a thousand points, using SymPy would be far slower than it needs to be, especially if you only care about machine precision. Instead, you should use libraries like NumPy and SciPy.\n",
      "\n",
      "The easiest way to convert a SymPy expression to an expression that can be numerically evaluated is to use the lambdify function. lambdify acts like a lambda function, except it converts the SymPy names to the names of the given numerical library, usually NumPy. For example"
     ]
    },
    {
     "cell_type": "code",
     "collapsed": false,
     "input": [
      "import numpy\n",
      "a = numpy.arange(10)\n",
      "expr=10*x\n",
      "f = lambdify(x, expr, \"numpy\")"
     ],
     "language": "python",
     "metadata": {},
     "outputs": [],
     "prompt_number": 67
    },
    {
     "cell_type": "code",
     "collapsed": false,
     "input": [
      "f(a)"
     ],
     "language": "python",
     "metadata": {},
     "outputs": [
      {
       "metadata": {},
       "output_type": "pyout",
       "prompt_number": 68,
       "text": [
        "array([ 0, 10, 20, 30, 40, 50, 60, 70, 80, 90])"
       ]
      }
     ],
     "prompt_number": 68
    },
    {
     "cell_type": "markdown",
     "metadata": {},
     "source": [
      "**simplify**\n",
      "\n",
      "One of the most useful features of a symbolic manipulation system is the ability to simplify mathematical expressions. SymPy has dozens of functions to perform various kinds of simplification. There is also one general function called `simplify` that attempts to apply all of these functions in an intelligent way to arrive at the simplest form of an expression."
     ]
    },
    {
     "cell_type": "code",
     "collapsed": false,
     "input": [
      "simplify(sin(x)**2 + cos(x)**2)"
     ],
     "language": "python",
     "metadata": {},
     "outputs": [
      {
       "latex": [
        "$$1$$"
       ],
       "metadata": {},
       "output_type": "pyout",
       "png": "[encoded data removed]",
       "prompt_number": 69,
       "text": [
        "1"
       ]
      }
     ],
     "prompt_number": 69
    },
    {
     "cell_type": "code",
     "collapsed": false,
     "input": [
      "simplify((x**3 + x**2 - x - 1)/(x**2 + 2*x + 1))"
     ],
     "language": "python",
     "metadata": {},
     "outputs": [
      {
       "latex": [
        "$$x - 1$$"
       ],
       "metadata": {},
       "output_type": "pyout",
       "png": "[encoded data removed]",
       "prompt_number": 70,
       "text": [
        "x - 1"
       ]
      }
     ],
     "prompt_number": 70
    },
    {
     "cell_type": "markdown",
     "metadata": {},
     "source": [
      "But simplify has a pitfall. It just applies all the major simplification operations in SymPy, and uses heuristics to determine the simplest result. But \u201csimplest\u201d is not a well-defined term. For example,"
     ]
    },
    {
     "cell_type": "code",
     "collapsed": false,
     "input": [
      "simplify(x**2 + 2*x + 1)"
     ],
     "language": "python",
     "metadata": {},
     "outputs": [
      {
       "latex": [
        "$$x^{2} + 2 x + 1$$"
       ],
       "metadata": {},
       "output_type": "pyout",
       "png": "[encoded data removed]",
       "prompt_number": 71,
       "text": [
        " 2          \n",
        "x  + 2\u22c5x + 1"
       ]
      }
     ],
     "prompt_number": 71
    },
    {
     "cell_type": "markdown",
     "metadata": {},
     "source": [
      "**expand**\n",
      "\n",
      "Given a polynomial, expand will put it into a canonical form of a sum of monomials."
     ]
    },
    {
     "cell_type": "code",
     "collapsed": false,
     "input": [
      "expand((x + 1)**2)"
     ],
     "language": "python",
     "metadata": {},
     "outputs": [
      {
       "latex": [
        "$$x^{2} + 2 x + 1$$"
       ],
       "metadata": {},
       "output_type": "pyout",
       "png": "[encoded data removed]",
       "prompt_number": 72,
       "text": [
        " 2          \n",
        "x  + 2\u22c5x + 1"
       ]
      }
     ],
     "prompt_number": 72
    },
    {
     "cell_type": "markdown",
     "metadata": {},
     "source": [
      "** factor **\n",
      "\n",
      "`factor` takes a polynomial and factors it into irreducible factors over the rational numbers. For example:"
     ]
    },
    {
     "cell_type": "code",
     "collapsed": false,
     "input": [
      "factor(x**3 - x**2 + x - 1)"
     ],
     "language": "python",
     "metadata": {},
     "outputs": [
      {
       "latex": [
        "$$\\left(x - 1\\right) \\left(x^{2} + 1\\right)$$"
       ],
       "metadata": {},
       "output_type": "pyout",
       "png": "[encoded data removed]",
       "prompt_number": 73,
       "text": [
        "        \u239b 2    \u239e\n",
        "(x - 1)\u22c5\u239dx  + 1\u23a0"
       ]
      }
     ],
     "prompt_number": 73
    },
    {
     "cell_type": "markdown",
     "metadata": {},
     "source": [
      "**collect**\n",
      "\n",
      "collect collects common powers of a term in an expression. For example"
     ]
    },
    {
     "cell_type": "code",
     "collapsed": false,
     "input": [
      "expr = x*y + x - 3 + 2*x**2 - z*x**2 + x**3\n",
      "collected_expr = collect(expr, x)\n",
      "expr"
     ],
     "language": "python",
     "metadata": {},
     "outputs": [
      {
       "latex": [
        "$$x^{3} - x^{2} z + 2 x^{2} + x y + x - 3$$"
       ],
       "metadata": {},
       "output_type": "pyout",
       "png": "[encoded data removed]",
       "prompt_number": 76,
       "text": [
        " 3    2        2              \n",
        "x  - x \u22c5z + 2\u22c5x  + x\u22c5y + x - 3"
       ]
      }
     ],
     "prompt_number": 76
    },
    {
     "cell_type": "code",
     "collapsed": false,
     "input": [
      "\n",
      "collected_expr"
     ],
     "language": "python",
     "metadata": {},
     "outputs": [
      {
       "latex": [
        "$$x^{3} + x^{2} \\left(- z + 2\\right) + x \\left(y + 1\\right) - 3$$"
       ],
       "metadata": {},
       "output_type": "pyout",
       "png": "[encoded data removed]",
       "prompt_number": 75,
       "text": [
        " 3    2                         \n",
        "x  + x \u22c5(-z + 2) + x\u22c5(y + 1) - 3"
       ]
      }
     ],
     "prompt_number": 75
    },
    {
     "cell_type": "markdown",
     "metadata": {},
     "source": [
      "** cancel **\n",
      "\n",
      "`cancel` will take any rational function and put it into the standard canonical form, $\\frac{p}{q}$, where $p$ and $q$ are expanded polynomials with no common factors, and the leading coefficients of $p$ and $q$ do not have denominators (i.e., are integers)."
     ]
    },
    {
     "cell_type": "code",
     "collapsed": false,
     "input": [
      "cancel((x**2 + 2*x + 1)/(x**2 + x))"
     ],
     "language": "python",
     "metadata": {},
     "outputs": [
      {
       "latex": [
        "$$\\frac{1}{x} \\left(x + 1\\right)$$"
       ],
       "metadata": {},
       "output_type": "pyout",
       "png": "[encoded data removed]",
       "prompt_number": 77,
       "text": [
        "x + 1\n",
        "\u2500\u2500\u2500\u2500\u2500\n",
        "  x  "
       ]
      }
     ],
     "prompt_number": 77
    },
    {
     "cell_type": "markdown",
     "metadata": {},
     "source": [
      "**apart**\n",
      "\n",
      "`apart` performs a partial fraction decomposition on a rational function."
     ]
    },
    {
     "cell_type": "code",
     "collapsed": false,
     "input": [
      "expr = (4*x**3 + 21*x**2 + 10*x + 12)/(x**4 + 5*x**3 + 5*x**2 + 4*x)\n",
      "expr"
     ],
     "language": "python",
     "metadata": {},
     "outputs": [
      {
       "latex": [
        "$$\\frac{4 x^{3} + 21 x^{2} + 10 x + 12}{x^{4} + 5 x^{3} + 5 x^{2} + 4 x}$$"
       ],
       "metadata": {},
       "output_type": "pyout",
       "png": "[encoded data removed]",
       "prompt_number": 78,
       "text": [
        "   3       2            \n",
        "4\u22c5x  + 21\u22c5x  + 10\u22c5x + 12\n",
        "\u2500\u2500\u2500\u2500\u2500\u2500\u2500\u2500\u2500\u2500\u2500\u2500\u2500\u2500\u2500\u2500\u2500\u2500\u2500\u2500\u2500\u2500\u2500\u2500\n",
        "  4      3      2       \n",
        " x  + 5\u22c5x  + 5\u22c5x  + 4\u22c5x "
       ]
      }
     ],
     "prompt_number": 78
    },
    {
     "cell_type": "code",
     "collapsed": false,
     "input": [
      "apart(expr)"
     ],
     "language": "python",
     "metadata": {},
     "outputs": [
      {
       "latex": [
        "$$\\frac{2 x - 1}{x^{2} + x + 1} - \\frac{1}{x + 4} + \\frac{3}{x}$$"
       ],
       "metadata": {},
       "output_type": "pyout",
       "png": "[encoded data removed]",
       "prompt_number": 79,
       "text": [
        " 2\u22c5x - 1       1     3\n",
        "\u2500\u2500\u2500\u2500\u2500\u2500\u2500\u2500\u2500\u2500 - \u2500\u2500\u2500\u2500\u2500 + \u2500\n",
        " 2           x + 4   x\n",
        "x  + x + 1            "
       ]
      }
     ],
     "prompt_number": 79
    },
    {
     "cell_type": "markdown",
     "metadata": {},
     "source": [
      "<a id='trigops'></a>\n",
      "#Trigonometric Simplification and Powers\n",
      "\n",
      "**trigsimp**\n",
      "\n",
      "To simplify expressions using trigonometric identities, "
     ]
    },
    {
     "cell_type": "code",
     "collapsed": false,
     "input": [
      "trigsimp(sin(x)**2 + cos(x)**2)\n"
     ],
     "language": "python",
     "metadata": {},
     "outputs": [
      {
       "latex": [
        "$$1$$"
       ],
       "metadata": {},
       "output_type": "pyout",
       "png": "[encoded data removed]",
       "prompt_number": 80,
       "text": [
        "1"
       ]
      }
     ],
     "prompt_number": 80
    },
    {
     "cell_type": "markdown",
     "metadata": {},
     "source": [
      "**expand_trig**\n",
      "\n",
      "To expand trigonometric functions, that is, apply the sum or double angle identities, "
     ]
    },
    {
     "cell_type": "code",
     "collapsed": false,
     "input": [
      "expand_trig(sin(x + y))\n"
     ],
     "language": "python",
     "metadata": {},
     "outputs": [
      {
       "latex": [
        "$$\\sin{\\left (x \\right )} \\cos{\\left (y \\right )} + \\sin{\\left (y \\right )} \\cos{\\left (x \\right )}$$"
       ],
       "metadata": {},
       "output_type": "pyout",
       "png": "[encoded data removed]",
       "prompt_number": 81,
       "text": [
        "sin(x)\u22c5cos(y) + sin(y)\u22c5cos(x)"
       ]
      }
     ],
     "prompt_number": 81
    },
    {
     "cell_type": "markdown",
     "metadata": {},
     "source": [
      "**powsimp**\n",
      "\n",
      "`powsimp` applies identities 1 and 2 from above, from left to right."
     ]
    },
    {
     "cell_type": "code",
     "collapsed": false,
     "input": [
      "a,b=symbols('a b')\n",
      "powsimp(x**a*x**b)"
     ],
     "language": "python",
     "metadata": {},
     "outputs": [
      {
       "latex": [
        "$$x^{a + b}$$"
       ],
       "metadata": {},
       "output_type": "pyout",
       "png": "[encoded data removed]",
       "prompt_number": 83,
       "text": [
        " a + b\n",
        "x     "
       ]
      }
     ],
     "prompt_number": 83
    },
    {
     "cell_type": "code",
     "collapsed": false,
     "input": [
      "powsimp(x**a*y**a)"
     ],
     "language": "python",
     "metadata": {},
     "outputs": [
      {
       "latex": [
        "$$x^{a} y^{a}$$"
       ],
       "metadata": {},
       "output_type": "pyout",
       "png": "[encoded data removed]",
       "prompt_number": 84,
       "text": [
        " a  a\n",
        "x \u22c5y "
       ]
      }
     ],
     "prompt_number": 84
    },
    {
     "cell_type": "markdown",
     "metadata": {},
     "source": [
      "**expand_power_exp and expand_power_base**\n",
      "\n",
      "`expand_power_exp` and `expand_power_base` apply identities 1 and 2 from right to left, respectively."
     ]
    },
    {
     "cell_type": "code",
     "collapsed": false,
     "input": [
      "expand_power_exp(x**(a + b))"
     ],
     "language": "python",
     "metadata": {},
     "outputs": [
      {
       "latex": [
        "$$x^{a} x^{b}$$"
       ],
       "metadata": {},
       "output_type": "pyout",
       "png": "[encoded data removed]",
       "prompt_number": 86,
       "text": [
        " a  b\n",
        "x \u22c5x "
       ]
      }
     ],
     "prompt_number": 86
    },
    {
     "cell_type": "code",
     "collapsed": false,
     "input": [
      "expand_power_base((x*y)**a)"
     ],
     "language": "python",
     "metadata": {},
     "outputs": [
      {
       "latex": [
        "$$\\left(x y\\right)^{a}$$"
       ],
       "metadata": {},
       "output_type": "pyout",
       "png": "[encoded data removed]",
       "prompt_number": 88,
       "text": [
        "     a\n",
        "(x\u22c5y) "
       ]
      }
     ],
     "prompt_number": 88
    },
    {
     "cell_type": "markdown",
     "metadata": {},
     "source": [
      "** expand_log and logcombine **\n",
      "\n",
      "To apply identities 1 and 2 from left to right, use expand_log. As always, the identities will not be applied unless they are valid."
     ]
    },
    {
     "cell_type": "code",
     "collapsed": false,
     "input": [
      "x, y = symbols('x y', positive=True)\n",
      "\n",
      "expand_log(log(x**2))"
     ],
     "language": "python",
     "metadata": {},
     "outputs": [
      {
       "latex": [
        "$$2 \\log{\\left (x \\right )}$$"
       ],
       "metadata": {},
       "output_type": "pyout",
       "png": "[encoded data removed]",
       "prompt_number": 93,
       "text": [
        "2\u22c5log(x)"
       ]
      }
     ],
     "prompt_number": 93
    },
    {
     "cell_type": "code",
     "collapsed": false,
     "input": [
      "logcombine(log(x) + log(y))\n"
     ],
     "language": "python",
     "metadata": {},
     "outputs": [
      {
       "latex": [
        "$$\\log{\\left (x y \\right )}$$"
       ],
       "metadata": {},
       "output_type": "pyout",
       "png": "[encoded data removed]",
       "prompt_number": 94,
       "text": [
        "log(x\u22c5y)"
       ]
      }
     ],
     "prompt_number": 94
    },
    {
     "cell_type": "markdown",
     "metadata": {},
     "source": [
      "<a id='calc'></a>\n",
      "# Calculus\n",
      "\n",
      "<a id='deriv'></a>\n",
      "##Derivatives\n",
      "\n",
      "The `diff` function is used for the purpose of differentiation."
     ]
    },
    {
     "cell_type": "code",
     "collapsed": false,
     "input": [
      "diff(cos(x), x)"
     ],
     "language": "python",
     "metadata": {},
     "outputs": [
      {
       "latex": [
        "$$- \\sin{\\left (x \\right )}$$"
       ],
       "metadata": {},
       "output_type": "pyout",
       "png": "[encoded data removed]",
       "prompt_number": 95,
       "text": [
        "-sin(x)"
       ]
      }
     ],
     "prompt_number": 95
    },
    {
     "cell_type": "code",
     "collapsed": false,
     "input": [
      "diff(x**4, x, x, x)\n",
      "#diff(x**4, x, 3)"
     ],
     "language": "python",
     "metadata": {},
     "outputs": [
      {
       "latex": [
        "$$24 x$$"
       ],
       "metadata": {},
       "output_type": "pyout",
       "png": "[encoded data removed]",
       "prompt_number": 96,
       "text": [
        "24\u22c5x"
       ]
      }
     ],
     "prompt_number": 96
    },
    {
     "cell_type": "markdown",
     "metadata": {},
     "source": [
      "<a id='int'></a>\n",
      "##Integrals\n",
      "\n",
      "To compute an integral, use the integrate function. There are two kinds of integrals, definite and indefinite. To compute an indefinite integral, that is, an antiderivative, or primitive, just pass the variable after the expression."
     ]
    },
    {
     "cell_type": "code",
     "collapsed": false,
     "input": [
      "integrate(cos(x), x)"
     ],
     "language": "python",
     "metadata": {},
     "outputs": [
      {
       "latex": [
        "$$\\sin{\\left (x \\right )}$$"
       ],
       "metadata": {},
       "output_type": "pyout",
       "png": "[encoded data removed]",
       "prompt_number": 97,
       "text": [
        "sin(x)"
       ]
      }
     ],
     "prompt_number": 97
    },
    {
     "cell_type": "code",
     "collapsed": false,
     "input": [
      "integrate((x), (x, 0, 1))"
     ],
     "language": "python",
     "metadata": {},
     "outputs": [
      {
       "latex": [
        "$$\\frac{1}{2}$$"
       ],
       "metadata": {},
       "output_type": "pyout",
       "png": "[encoded data removed]",
       "prompt_number": 101,
       "text": [
        "1/2"
       ]
      }
     ],
     "prompt_number": 101
    },
    {
     "cell_type": "code",
     "collapsed": false,
     "input": [
      "integrate((x*y), (x, 0, 1), (y,0,1))"
     ],
     "language": "python",
     "metadata": {},
     "outputs": [
      {
       "latex": [
        "$$\\frac{1}{4}$$"
       ],
       "metadata": {},
       "output_type": "pyout",
       "png": "[encoded data removed]",
       "prompt_number": 103,
       "text": [
        "1/4"
       ]
      }
     ],
     "prompt_number": 103
    },
    {
     "cell_type": "markdown",
     "metadata": {},
     "source": [
      "If `integrate` is unable to compute an integral, it returns an unevaluated `Integral` object."
     ]
    },
    {
     "cell_type": "code",
     "collapsed": false,
     "input": [
      "expr = integrate(x**x, x)\n",
      "print(expr)"
     ],
     "language": "python",
     "metadata": {},
     "outputs": []
    },
    {
     "cell_type": "code",
     "collapsed": false,
     "input": [
      "expr"
     ],
     "language": "python",
     "metadata": {},
     "outputs": [
      {
       "latex": [
        "$$\\int x^{x}\\, dx$$"
       ],
       "metadata": {},
       "output_type": "pyout",
       "png": "[encoded data removed]",
       "prompt_number": 106,
       "text": [
        "\u2320      \n",
        "\u23ae  x   \n",
        "\u23ae x  dx\n",
        "\u2321      "
       ]
      }
     ],
     "prompt_number": 106
    },
    {
     "cell_type": "markdown",
     "metadata": {},
     "source": [
      "<a id='limits'></a>\n",
      "##Limits\n",
      "\n",
      "SymPy can compute symbolic limits with the limit function. The syntax to compute: $$\\lim_{x \\to x_0} f(x)$$ is `limit(f(x), x, x0)`\n"
     ]
    },
    {
     "cell_type": "code",
     "collapsed": false,
     "input": [
      "limit(sin(x)/x, x, 0)"
     ],
     "language": "python",
     "metadata": {},
     "outputs": [
      {
       "latex": [
        "$$1$$"
       ],
       "metadata": {},
       "output_type": "pyout",
       "png": "[encoded data removed]",
       "prompt_number": 107,
       "text": [
        "1"
       ]
      }
     ],
     "prompt_number": 107
    },
    {
     "cell_type": "markdown",
     "metadata": {},
     "source": [
      "`limit` should be used instead of `subs` whenever the point of evaluation is a singularity."
     ]
    },
    {
     "cell_type": "code",
     "collapsed": false,
     "input": [
      "expr = (cos(x) - 1)/x"
     ],
     "language": "python",
     "metadata": {},
     "outputs": [],
     "prompt_number": 112
    },
    {
     "cell_type": "code",
     "collapsed": false,
     "input": [
      "print (expr.subs(x, 0))"
     ],
     "language": "python",
     "metadata": {},
     "outputs": [
      {
       "output_type": "stream",
       "stream": "stdout",
       "text": [
        "nan\n"
       ]
      }
     ],
     "prompt_number": 115
    },
    {
     "cell_type": "code",
     "collapsed": false,
     "input": [
      "limit(expr, x, 0)"
     ],
     "language": "python",
     "metadata": {},
     "outputs": [
      {
       "latex": [
        "$$0$$"
       ],
       "metadata": {},
       "output_type": "pyout",
       "png": "[encoded data removed]",
       "prompt_number": 114,
       "text": [
        "0"
       ]
      }
     ],
     "prompt_number": 114
    },
    {
     "cell_type": "markdown",
     "metadata": {},
     "source": [
      "<a id='exp'></a>\n",
      "##Series Expansion\n",
      "\n",
      "SymPy can compute asymptotic series expansions of functions around a point. "
     ]
    },
    {
     "cell_type": "code",
     "collapsed": false,
     "input": [
      "expr = (sin(x))"
     ],
     "language": "python",
     "metadata": {},
     "outputs": [],
     "prompt_number": 117
    },
    {
     "cell_type": "code",
     "collapsed": false,
     "input": [
      "expr.series(x, 0, 4)"
     ],
     "language": "python",
     "metadata": {},
     "outputs": [
      {
       "latex": [
        "$$x - \\frac{x^{3}}{6} + \\mathcal{O}\\left(x^{4}\\right)$$"
       ],
       "metadata": {},
       "output_type": "pyout",
       "png": "[encoded data removed]",
       "prompt_number": 118,
       "text": [
        "     3        \n",
        "    x     \u239b 4\u239e\n",
        "x - \u2500\u2500 + O\u239dx \u23a0\n",
        "    6         "
       ]
      }
     ],
     "prompt_number": 118
    },
    {
     "cell_type": "markdown",
     "metadata": {},
     "source": [
      "---\n",
      "<a id='refs'></a>\n",
      "## References\n",
      "\n",
      "- [SymPy documentation](http://docs.sympy.org/latest/index.html)\n",
      "- [SymPy Wiki](https://github.com/sympy/sympy/wiki)"
     ]
    },
    {
     "cell_type": "markdown",
     "metadata": {},
     "source": [
      "---\n",
      "<a id='credits'></a>\n",
      "## Credits\n",
      "\n",
      "Lakshmi Rao and Neal Davis developed these materials for [Computational Science and Engineering](http://cse.illinois.edu/) at the University of Illinois at Urbana\u2013Champaign.\n",
      "\n",
      "<img src=\"http://i.creativecommons.org/l/by/3.0/88x31.png\" align=\"left\">\n",
      "This content is available under a [Creative Commons Attribution 3.0 Unported License](https://creativecommons.org/licenses/by/3.0/).\n",
      "\n",
      "[![](https://bytebucket.org/davis68/resources/raw/f7c98d2b95e961fae257707e22a58fa1a2c36bec/logos/baseline_cse_wdmk.png?token=be4cc41d4b2afe594f5b1570a3c5aad96a65f0d6)](http://cse.illinois.edu/)"
     ]
    }
   ],
   "metadata": {}
  }
 ]
}